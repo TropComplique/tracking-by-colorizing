{
 "cells": [
  {
   "cell_type": "code",
   "execution_count": null,
   "metadata": {},
   "outputs": [],
   "source": [
    "import os\n",
    "import tensorflow.compat.v1 as tf\n",
    "import pandas as pd\n",
    "import cv2\n",
    "import numpy as np\n",
    "from PIL import Image\n",
    "from input_pipeline import Pipeline"
   ]
  },
  {
   "cell_type": "markdown",
   "metadata": {},
   "source": [
    "# Define a graph"
   ]
  },
  {
   "cell_type": "code",
   "execution_count": null,
   "metadata": {},
   "outputs": [],
   "source": [
    "tf.reset_default_graph()\n",
    "\n",
    "dataset_path = '/home/dan/datasets/activity_net_subset/shards/'\n",
    "filenames = os.listdir(dataset_path)\n",
    "filenames = [n for n in filenames if n.endswith('.tfrecords')]\n",
    "filenames = [os.path.join(dataset_path, n) for n in sorted(filenames)]\n",
    "\n",
    "pipeline = Pipeline(filenames, is_training=True, batch_size=16)\n",
    "dataset = pipeline.dataset\n",
    "iterator = tf.data.Iterator.from_structure(dataset.output_types, dataset.output_shapes)\n",
    "init = iterator.make_initializer(dataset)\n",
    "x = iterator.get_next()\n",
    "print(x)"
   ]
  },
  {
   "cell_type": "markdown",
   "metadata": {},
   "source": [
    "# Show a sample"
   ]
  },
  {
   "cell_type": "code",
   "execution_count": null,
   "metadata": {},
   "outputs": [],
   "source": [
    "with tf.Session() as sess:\n",
    "    sess.run(init)\n",
    "    y = sess.run(x)\n",
    "    # it has shape [16, 4, 256, 256, 2]"
   ]
  },
  {
   "cell_type": "code",
   "execution_count": null,
   "metadata": {},
   "outputs": [],
   "source": [
    "DECODER = np.load('decoder.npy')\n",
    "\n",
    "def show_batch(y):\n",
    "    image = Image.new('RGB', (256 * 4 * 2, 256 * 16))\n",
    "    for i in range(16):\n",
    "\n",
    "        gray = y[i, :, :, :, 0]\n",
    "        gray = np.concatenate(gray, axis=1)\n",
    "        # it has shape [256, 4 * 256]\n",
    "\n",
    "        codes = y[i, :, :, :, 1]\n",
    "        codes = np.concatenate(codes, axis=1)\n",
    "        colors = DECODER[codes]\n",
    "        # it has shape [256, 4 * 256, 2]\n",
    "\n",
    "        gray_constant = 200 * np.ones_like(gray)\n",
    "        gray_constant = np.expand_dims(gray_constant, 2)\n",
    "        lab = np.concatenate([gray_constant, colors], axis=2)\n",
    "        rgb = cv2.cvtColor(lab, cv2.COLOR_LAB2RGB)\n",
    "        # it has shape [256, 4 * 256, 3]\n",
    "\n",
    "        gray = Image.fromarray(gray).convert('RGB')\n",
    "        rgb = Image.fromarray(rgb)\n",
    "\n",
    "        image.paste(gray, (0, 256 * i))\n",
    "        image.paste(rgb, (256 * 4, 256 * i))\n",
    "\n",
    "    return image"
   ]
  },
  {
   "cell_type": "code",
   "execution_count": null,
   "metadata": {
    "scrolled": false
   },
   "outputs": [],
   "source": [
    "show_batch(y)"
   ]
  }
 ],
 "metadata": {
  "kernelspec": {
   "display_name": "Python 3",
   "language": "python",
   "name": "python3"
  },
  "language_info": {
   "codemirror_mode": {
    "name": "ipython",
    "version": 3
   },
   "file_extension": ".py",
   "mimetype": "text/x-python",
   "name": "python",
   "nbconvert_exporter": "python",
   "pygments_lexer": "ipython3",
   "version": "3.6.8"
  }
 },
 "nbformat": 4,
 "nbformat_minor": 2
}
